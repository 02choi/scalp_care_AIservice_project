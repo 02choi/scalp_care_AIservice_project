{
 "cells": [
  {
   "cell_type": "markdown",
   "id": "54667c4d",
   "metadata": {},
   "source": [
    "## voila를 활용한 웹어플리케이션 시연"
   ]
  },
  {
   "cell_type": "code",
   "execution_count": null,
   "id": "3459eb34",
   "metadata": {},
   "outputs": [],
   "source": [
    "#!pip install tensorflow"
   ]
  },
  {
   "cell_type": "code",
   "execution_count": null,
   "id": "0d2f89b4",
   "metadata": {},
   "outputs": [],
   "source": [
    "#!pip install voila"
   ]
  },
  {
   "cell_type": "code",
   "execution_count": null,
   "id": "20bf793d",
   "metadata": {},
   "outputs": [],
   "source": [
    "import warnings\n",
    "warnings.filterwarnings(action='ignore')"
   ]
  },
  {
   "cell_type": "code",
   "execution_count": null,
   "id": "e0680dcf",
   "metadata": {},
   "outputs": [],
   "source": [
    "import matplotlib.image as img\n",
    "import matplotlib.pyplot as plt\n",
    "import tensorflow\n",
    "from tensorflow import keras\n",
    "from tensorflow.keras.models import load_model\n",
    "from tensorflow.keras.preprocessing.image import ImageDataGenerator"
   ]
  },
  {
   "cell_type": "code",
   "execution_count": null,
   "id": "1ba4499a",
   "metadata": {},
   "outputs": [],
   "source": [
    "bd_model = keras.models.load_model('C:/Users/cyd94/Downloads/202111_my_bd_CNN_model.h5')\n",
    "hb_model = keras.models.load_model('C:/Users/cyd94/Downloads/202111_my_hb_CNN_model.h5')\n",
    "pj_model = keras.models.load_model('C:/Users/cyd94/Downloads/202111_my_pj_CNN_model.h5')\n",
    "tm_model = keras.models.load_model('C:/Users/cyd94/Downloads/202111_my_tm_CNN_model.h5')\n",
    "gj_model = keras.models.load_model('C:/Users/cyd94/Downloads/202111_my_gj_CNN_model.h5')\n",
    "# 모델 5개 로드"
   ]
  },
  {
   "cell_type": "code",
   "execution_count": null,
   "id": "9e31d3b9",
   "metadata": {},
   "outputs": [],
   "source": [
    "test_datagen = ImageDataGenerator(rescale=1/255)\n",
    "batch_size = 32\n",
    "IMG_HEIGHT = 128\n",
    "IMG_WIDTH = 128\n",
    "test_image = test_datagen.flow_from_directory(batch_size=batch_size,\n",
    "                                          directory=\"D:/scalp_image_model/test/bd_test\", # '비듬' 테스트 데이터 셋 추출\n",
    "                                          target_size=(IMG_HEIGHT, IMG_WIDTH),\n",
    "                                          class_mode='binary')\n",
    "sample_test_images, _ = next(test_image)"
   ]
  },
  {
   "cell_type": "markdown",
   "id": "d858f0d4",
   "metadata": {},
   "source": [
    "### 비듬라벨 데이터"
   ]
  },
  {
   "cell_type": "code",
   "execution_count": null,
   "id": "e98f70c5",
   "metadata": {},
   "outputs": [],
   "source": [
    "plt.imshow(sample_test_images[5])\n",
    "plt.show()"
   ]
  },
  {
   "cell_type": "markdown",
   "id": "eb6f2429",
   "metadata": {},
   "source": [
    "#### 비듬 이외 다른 증상도 판별가능"
   ]
  },
  {
   "cell_type": "code",
   "execution_count": null,
   "id": "8c4c73b8",
   "metadata": {},
   "outputs": [],
   "source": [
    "bd = round(bd_model.predict(sample_test_images[5].reshape(1,128,128,3))[0][0],4)\n",
    "bd_p = str(round(bd*100,2)) + '%'\n",
    "hb = round(hb_model.predict(sample_test_images[5].reshape(1,128,128,3))[0][0],4)\n",
    "hb_p = str(round(hb*100,2)) + '%'\n",
    "pj = round(pj_model.predict(sample_test_images[5].reshape(1,128,128,3))[0][0],4)\n",
    "pj_p = str(round(pj*100,2)) + '%'\n",
    "tm = round(tm_model.predict(sample_test_images[5].reshape(1,128,128,3))[0][0],4)\n",
    "tm_p = str(round(tm*100,2)) + '%'\n",
    "gj = round(gj_model.predict(sample_test_images[5].reshape(1,128,128,3))[0][0],4)\n",
    "gj_p = str(round(gj*100,2)) + '%'\n",
    "hash={'비듬':bd_p, '홍반':hb_p, '피지':pj_p, '탈모':tm_p, '각질':gj_p}\n",
    "print(hash)"
   ]
  },
  {
   "cell_type": "markdown",
   "id": "b95472f9",
   "metadata": {},
   "source": [
    "voila C:/Users/cyd94/pycode/voila_test.ipynb"
   ]
  }
 ],
 "metadata": {
  "kernelspec": {
   "display_name": "Python 3",
   "language": "python",
   "name": "python3"
  },
  "language_info": {
   "codemirror_mode": {
    "name": "ipython",
    "version": 3
   },
   "file_extension": ".py",
   "mimetype": "text/x-python",
   "name": "python",
   "nbconvert_exporter": "python",
   "pygments_lexer": "ipython3",
   "version": "3.8.8"
  }
 },
 "nbformat": 4,
 "nbformat_minor": 5
}
